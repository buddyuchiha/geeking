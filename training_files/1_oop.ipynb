{
 "cells": [
  {
   "cell_type": "markdown",
   "metadata": {},
   "source": [
    "Создайте класс Soda (для определения типа газированной воды), принимающий 1 аргумент при инициализации (отвечающий за добавку к выбираемому лимонаду). В этом классе реализуйте метод show_my_drink(), выводящий на печать Газировка и {ДОБАВКА} в случае наличия добавки, а иначе отобразится следующая фраза: Обычная газировка."
   ]
  },
  {
   "cell_type": "code",
   "execution_count": 16,
   "metadata": {},
   "outputs": [
    {
     "name": "stdout",
     "output_type": "stream",
     "text": [
      "Газировка и cherry\n",
      "Обычная газировка\n"
     ]
    }
   ],
   "source": [
    "class Soda:\n",
    "    def __init__(self, syrop = None):\n",
    "        if not isinstance(syrop, str | None):\n",
    "            raise TypeError(\"Сироп может быть только string\")\n",
    "        self.__syrop = syrop\n",
    "    \n",
    "    def show_my_drink(self):\n",
    "        if self.__syrop:\n",
    "            print(f\"Газировка и {self.__syrop}\")\n",
    "        else:\n",
    "            print(\"Обычная газировка\")\n",
    "\n",
    "pepsi = Soda(\"cherry\")\n",
    "cola = Soda()\n",
    "pepsi.show_my_drink()\n",
    "cola.show_my_drink()"
   ]
  },
  {
   "cell_type": "markdown",
   "metadata": {},
   "source": [
    "Николаю требуется проверить, возможно ли из представленных отрезков условной длины сформировать треугольник. Для этого он решил создать класс TriangleChecker, принимающий только положительные числа. С помощью метода is_triangle() возвращаются следующие значения (в зависимости от ситуации):\n",
    "– Ура, можно построить треугольник!;\n",
    "– С отрицательными числами ничего не выйдет!;\n",
    "– Нужно вводить только числа!;\n",
    "– Жаль, но из этого треугольник не сделать."
   ]
  },
  {
   "cell_type": "code",
   "execution_count": 17,
   "metadata": {},
   "outputs": [
    {
     "name": "stdout",
     "output_type": "stream",
     "text": [
      "Ура, можно построить треугольник!\n",
      "Жаль, но из этого треугольник не сделать\n"
     ]
    }
   ],
   "source": [
    "class TriangleChecker:\n",
    "    def __init__(self, sides):\n",
    "        self.sides = sides\n",
    "\n",
    "    def is_triangle(self):\n",
    "        if all(isinstance(side, (int, float)) for side in self.sides):\n",
    "            if all(side > 0 for side in self.sides):\n",
    "                sorted_sides = sorted(self.sides)\n",
    "                if sorted_sides[0] + sorted_sides[1] > sorted_sides[2]:\n",
    "                    return 'Ура, можно построить треугольник!'\n",
    "                return 'Жаль, но из этого треугольник не сделать'\n",
    "            return 'С отрицательными числами ничего не выйдет!'\n",
    "        return 'Нужно вводить только числа!'\n",
    "    \n",
    "first = [3, 4, 5]\n",
    "second = [77, 3, 4]\n",
    "a = TriangleChecker(first)\n",
    "b = TriangleChecker(second)\n",
    "print(a.is_triangle())\n",
    "print(b.is_triangle())"
   ]
  },
  {
   "cell_type": "markdown",
   "metadata": {},
   "source": [
    "Евгения создала класс KgToPounds с параметром kg, куда передается определенное количество килограмм, а с помощью метода to_pounds() они переводятся в фунты. Чтобы закрыть доступ к переменной kg она реализовала методы set_kg() - для задания нового значения килограммов, get_kg() - для вывода текущего значения кг. Из-за этого возникло неудобство: нам нужно теперь использовать эти 2 метода для задания и вывода значений. Помогите ей переделать класс с использованием функции property() и свойств-декораторов. Код приведен ниже."
   ]
  },
  {
   "cell_type": "code",
   "execution_count": 18,
   "metadata": {},
   "outputs": [
    {
     "name": "stdout",
     "output_type": "stream",
     "text": [
      "88.0\n"
     ]
    }
   ],
   "source": [
    "class KgToPounds:\n",
    "    \"\"\"\n",
    "    Class accept kg and have set_kg(), get_kg(), to_pounds() methods\n",
    "    \"\"\"\n",
    "\n",
    "    def __init__(self, kg: int | float = None):\n",
    "        \"\"\"\n",
    "        Initializating the object weight \n",
    "\n",
    "        Args:\n",
    "            kg (int or float): Weight of the object \n",
    "        \n",
    "        Raises:\n",
    "            ValueError: Negative number\n",
    "            TypeError: If kg not nubmer\n",
    "        \"\"\"\n",
    "        if not isinstance(kg, (int, float)):\n",
    "                raise TypeError(\"Weight must be int or float!\")\n",
    "        \n",
    "        if kg < 0:\n",
    "            raise ValueError(\"Weight can't be a negative!\") \n",
    "        \n",
    "        self.__kg = kg \n",
    "\n",
    "    @property \n",
    "    def kg(self) -> int:\n",
    "        \"\"\"\n",
    "        Gets the object weight\n",
    "\n",
    "        Returns:\n",
    "            int: Weight of the object\n",
    "        \"\"\"\n",
    "\n",
    "        return self.__kg\n",
    "\n",
    "    @kg.setter    \n",
    "    def kg(self, kg: int | float) -> None:\n",
    "        \"\"\"\n",
    "        Sets the object weight \n",
    "\n",
    "        Args:\n",
    "            kg (int or float): Weight of the object\n",
    "\n",
    "        Raises:\n",
    "            ValueError: Negative number\n",
    "            TypeError: If kf not number\n",
    "        \"\"\"\n",
    "        if not isinstance(kg, (int, float)):\n",
    "                raise TypeError(\"Weight must be int or float!\")\n",
    "        \n",
    "        if kg < 0:\n",
    "            raise ValueError(\"Weight can't be a negative!\") \n",
    "        \n",
    "        self.__kg = kg \n",
    "    \n",
    "\n",
    "    def to_pounds(self) -> None:\n",
    "        \"\"\"\n",
    "        Transfer kg weight to pound weight \n",
    "        \"\"\"\n",
    "        self.__kg *= 2.2\n",
    "    \n",
    "a = KgToPounds(50)\n",
    "a.kg = 40\n",
    "a.to_pounds()\n",
    "print(a.kg)"
   ]
  },
  {
   "cell_type": "code",
   "execution_count": null,
   "metadata": {},
   "outputs": [],
   "source": []
  }
 ],
 "metadata": {
  "kernelspec": {
   "display_name": "Python 3",
   "language": "python",
   "name": "python3"
  },
  "language_info": {
   "codemirror_mode": {
    "name": "ipython",
    "version": 3
   },
   "file_extension": ".py",
   "mimetype": "text/x-python",
   "name": "python",
   "nbconvert_exporter": "python",
   "pygments_lexer": "ipython3",
   "version": "3.13.2"
  }
 },
 "nbformat": 4,
 "nbformat_minor": 2
}
