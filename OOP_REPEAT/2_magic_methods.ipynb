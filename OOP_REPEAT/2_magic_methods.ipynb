{
 "cells": [
  {
   "cell_type": "markdown",
   "metadata": {},
   "source": [
    "__#7. Магические методы setattr, getattribute, getattr и delattr__"
   ]
  },
  {
   "cell_type": "markdown",
   "metadata": {},
   "source": [
    "свойства и методы - атрибуты класса\n",
    "\n",
    "атрибуты класса являются общими для всех его экземпляров, так как они содержат ссылку на них\n",
    "\n",
    "мы не можем к атрибутам класса обращаться по именам, нужно или через self или через название класса (не рекомендуется)\n",
    "\n",
    "def set_bound(self, left):\n",
    "        self.MIN_COORD = left\n",
    "не изменяет атрибут класса, а создает новое локальное свойство для экземпляра. Правильнее использовать @classmethod и ссылку на класс (cls)\n",
    "\n",
    "setattr(self, key, value) - автоматически вызывается при изменении свойства key класса. Можем запретить создавать какой-либо локальный атрибут в экземплярах класса.\n",
    "\n",
    "getattribute(self, item) - автоматически вызывается при получении свойства класса с именем item. Используется например для запрета обращения к какому-либу атрибуту\n",
    "\n",
    "getattr(self, item) - автоматически вызывается при получении несуществующего свойства item класса. Ну эт используется если там чет нужно продумать при обращении к несуществующему элементу класса. Чтоб допустим возвращалось False, а не исключение дропалось.\n",
    "\n",
    "delattr(self, item) - автоматически вызывается при удалении свйоства item (не важно существует оно или нет). Контролировать удаление тех или иных атрибутов"
   ]
  },
  {
   "cell_type": "code",
   "execution_count": 7,
   "metadata": {},
   "outputs": [
    {
     "name": "stdout",
     "output_type": "stream",
     "text": [
      "{'x': 1, 'y': 2}\n",
      "{'__module__': '__main__', '__firstlineno__': 1, 'MAX_COORD': 100, 'MIN_COORD': 100, '__init__': <function Point.__init__ at 0x000001EDCC02E3E0>, 'set_coord': <function Point.set_coord at 0x000001EDCC02E7A0>, 'set_bound': <classmethod(<function Point.set_bound at 0x000001EDCC02EE80>)>, '__getattribute__': <function Point.__getattribute__ at 0x000001EDCC02E520>, '__setattr__': <function Point.__setattr__ at 0x000001EDCC02EFC0>, '__getattr__': <function Point.__getattr__ at 0x000001EDCC02F060>, '__delattr__': <function Point.__delattr__ at 0x000001EDCC02F100>, '__static_attributes__': ('x', 'y'), '__dict__': <attribute '__dict__' of 'Point' objects>, '__weakref__': <attribute '__weakref__' of 'Point' objects>, '__doc__': None}\n",
      "2\n",
      "False\n"
     ]
    }
   ],
   "source": [
    "class Point():\n",
    "    MAX_COORD = 100\n",
    "    MIN_COORD = 0\n",
    "\n",
    "    def __init__(self, x, y):\n",
    "        self.x = x\n",
    "        self.y = y \n",
    "    \n",
    "    def set_coord(self, x, y):\n",
    "        self.x = x \n",
    "        self.y = y\n",
    "\n",
    "    @classmethod\n",
    "    def set_bound(cls, left):\n",
    "        cls.MIN_COORD = left\n",
    "\n",
    "    def __getattribute__(self, item):\n",
    "        if item == \"x\":\n",
    "            raise ValueError(\"доступ запрещен\")\n",
    "        else: \n",
    "            return object.__getattribute__(self, item)\n",
    "\n",
    "    def __setattr__(self, name, value):\n",
    "        if name == 'z': \n",
    "            raise AttributeError(\"недопустимое имя атрибута\")\n",
    "        else:\n",
    "            object.__setattr__(self, name, value)\n",
    "\n",
    "    def __getattr__(self, name):\n",
    "        return False\n",
    "\n",
    "    def __delattr__(self, name):\n",
    "        object.__delattr__(self, name)\n",
    "\n",
    "pt1 = Point(1, 2)\n",
    "pt1.set_bound(100)\n",
    "print(pt1.__dict__)\n",
    "print(Point.__dict__)\n",
    "\n",
    "a = pt1.y\n",
    "print(a)\n",
    "\n",
    "print(pt1.yy)\n",
    "\n",
    "del Point"
   ]
  },
  {
   "cell_type": "markdown",
   "metadata": {},
   "source": [
    "__#8. Паттерн \"Моносостояние\"__"
   ]
  },
  {
   "cell_type": "markdown",
   "metadata": {},
   "source": [
    "Идея заключается в том, что изменение атрибутов класса в каком-либо объекте, изменится у всех объектов\n",
    "\n",
    "Очень редко используется на практике"
   ]
  },
  {
   "cell_type": "code",
   "execution_count": 8,
   "metadata": {},
   "outputs": [
    {
     "name": "stdout",
     "output_type": "stream",
     "text": [
      "3\n"
     ]
    }
   ],
   "source": [
    "class ThreadData:\n",
    "    __shared_attrs= {\n",
    "        'name': 'thread_1',\n",
    "        'data': {},\n",
    "        'id' : 1\n",
    "    }\n",
    "\n",
    "    def __init__(self):\n",
    "        self.__dict__ = self.__shared_attrs\n",
    "\n",
    "th1 = ThreadData()\n",
    "th2 = ThreadData()\n",
    "\n",
    "th1.id = 3 \n",
    "print(th2.id)\n",
    "\n",
    "th1.attr_new = 'new_attr'\n",
    "\n",
    "del ThreadData"
   ]
  },
  {
   "cell_type": "markdown",
   "metadata": {},
   "source": [
    "__#9. Свойства property. Декоратор @property__"
   ]
  },
  {
   "cell_type": "markdown",
   "metadata": {},
   "source": [
    "Короче переопределяет функции в зависимости от функционала, например чтоб при вызове одной функции одним способом можно получить значение (геттер), а также можно и записать значения (сеттер) и тому подобное \n",
    "\n",
    "У свойства property приоритет выше, чем при обращении к приватному атрибуту экземпляра класса."
   ]
  },
  {
   "cell_type": "code",
   "execution_count": 9,
   "metadata": {},
   "outputs": [
    {
     "name": "stdout",
     "output_type": "stream",
     "text": [
      "20\n",
      "35\n"
     ]
    }
   ],
   "source": [
    "class Person:\n",
    "    def __init__(self, name, old):\n",
    "        self.__name = name\n",
    "        self.__old = old \n",
    "\n",
    "    def get_old(self):\n",
    "        return self.__old \n",
    "    \n",
    "    def set_old(self, old):\n",
    "        self.__old = old \n",
    "\n",
    "    old = property(get_old, set_old)\n",
    "\n",
    "p = Person('Сергей', 20)\n",
    "\n",
    "a = p.old\n",
    "print(a)\n",
    "\n",
    "p.old = 35 \n",
    "print(p.old)\n",
    "\n",
    "\n",
    "del Person "
   ]
  },
  {
   "cell_type": "code",
   "execution_count": 10,
   "metadata": {},
   "outputs": [
    {
     "name": "stdout",
     "output_type": "stream",
     "text": [
      "20\n",
      "35\n"
     ]
    }
   ],
   "source": [
    "# как чаще всего используют все на практике:\n",
    "class Person:\n",
    "    def __init__(self, name, old):\n",
    "        self.__name = name\n",
    "        self.__old = old \n",
    "\n",
    "    @property\n",
    "    def old(self):\n",
    "        return self.__old \n",
    "    \n",
    "    @old.setter\n",
    "    def old(self, old):\n",
    "        self.__old = old\n",
    "\n",
    "    @old.deleter \n",
    "    def old(self):\n",
    "        del self.__old \n",
    "\n",
    "\n",
    "p = Person('Сергей', 20)\n",
    "\n",
    "a = p.old\n",
    "print(a)\n",
    "\n",
    "p.old = 35 \n",
    "print(p.old)\n",
    "\n",
    "\n",
    "del Person "
   ]
  },
  {
   "cell_type": "markdown",
   "metadata": {},
   "source": [
    "__#10. Пример использования объектов property__"
   ]
  },
  {
   "cell_type": "markdown",
   "metadata": {},
   "source": [
    "if len(s.strip(letters)) != 0:  - если fio содержит разрешенные символы из letters, то стрип их все удалит и длина будет равна нулю"
   ]
  },
  {
   "cell_type": "code",
   "execution_count": 11,
   "metadata": {},
   "outputs": [
    {
     "name": "stdout",
     "output_type": "stream",
     "text": [
      "{'_Person__fio': ['Балакирев', 'Сергей', 'Михайлович'], '_Person__old': 100, '_Person__passport': '4567 123456', '_Person__weight': 70.0}\n"
     ]
    }
   ],
   "source": [
    "from string import ascii_letters\n",
    "\n",
    "class Person: \n",
    "    S_RUS = 'йцукенгшщзхъфывапролджэячсмитьбю'\n",
    "    S_RUS_UPPER = S_RUS.upper()\n",
    "    \n",
    "    def __init__(self, fio, old, ps, weight): \n",
    "        self.verify_fio(fio)\n",
    "        self.verify_old(old)\n",
    "        self.verify_ps(ps)\n",
    "        self.verify_weight(weight)\n",
    "\n",
    "        self.__fio = fio.split()\n",
    "        self.__old = old \n",
    "        self.__passport = ps \n",
    "        self.__weight = weight \n",
    "\n",
    "    @classmethod \n",
    "    def verify_fio(cls, fio):\n",
    "        if type(fio) != str: \n",
    "            raise TypeError(\"ФИО должно быть строкой\")\n",
    "        \n",
    "        f = fio.split() \n",
    "        if len(f) != 3: \n",
    "            raise TypeError(\"Неверный формат ФИО\")\n",
    "        \n",
    "        letters = ascii_letters + cls.S_RUS + cls.S_RUS_UPPER\n",
    "        for s in f: \n",
    "            if len(s) < 1:\n",
    "                raise TypeError('В ФИО lолжен быть хотя бы один символ')\n",
    "            if len(s.strip(letters)) != 0: \n",
    "                raise TypeError('В ФИО должны быть допустимые символы')\n",
    "            \n",
    "    @classmethod\n",
    "    def verify_old(cls, old):\n",
    "        if type(old) != int or old < 14 or old > 120:\n",
    "            raise TypeError('Возраст должен быть целым числом в диапозоне [14; 120]')\n",
    "        \n",
    "    @classmethod\n",
    "    def verify_weight(cls, weight):\n",
    "        if type(weight) != float or weight < 20:\n",
    "            raise TypeError('Вес должен быть вещественным числом больше 20')\n",
    "        \n",
    "    @classmethod \n",
    "    def verify_ps(cls, ps):\n",
    "        if type(ps) != str: \n",
    "            raise TypeError('Паспорт должен быть строкой')\n",
    "        \n",
    "        s = ps.split()\n",
    "        if len(s) != 2 or len(s[0]) != 4 or len(s[1]) != 6: \n",
    "            raise TypeError('Неверный формат паспорта')\n",
    "\n",
    "        for p in s: \n",
    "            if not p.isdigit():\n",
    "                raise TypeError('Серия и номер паспорта должны быть числами')\n",
    "\n",
    "    @property\n",
    "    def fio(self):\n",
    "        return self.__fio \n",
    "    \n",
    "    @property\n",
    "    def old(self):\n",
    "        return self.__old \n",
    "    \n",
    "    @old.setter \n",
    "    def old(self, old):\n",
    "        self.verify_old(old)\n",
    "        self.__old = old \n",
    "\n",
    "    @property\n",
    "    def weight(self):\n",
    "        return self.__weight \n",
    "    \n",
    "    @weight.setter \n",
    "    def weight(self, weight):\n",
    "        self.verify_weight(weight)\n",
    "        self.__weight = weight \n",
    "\n",
    "    @property\n",
    "    def passport(self):\n",
    "        return self.__passport \n",
    "    \n",
    "    @passport.setter \n",
    "    def passport(self, ps):\n",
    "        self.verify_ps(ps)\n",
    "        self.__passport = ps \n",
    "    \n",
    "\n",
    "p = Person('Балакирев Сергей Михайлович', 30, '1234 567890', 80.0)\n",
    "p.old = 100 \n",
    "p.passport = '4567 123456'\n",
    "p.weight = 70.0\n",
    "print(p.__dict__)\n",
    "\n",
    "del Person"
   ]
  },
  {
   "cell_type": "markdown",
   "metadata": {},
   "source": [
    "__#11. Дескрипторы (data descriptor и non-data descriptor)__"
   ]
  },
  {
   "cell_type": "markdown",
   "metadata": {},
   "source": [
    "Non-data descriptor - класс у которого есть только геттер (имеет тот же приоритет, что и атрибуты класса)\n",
    "\n",
    "Data descriptor - класс, у которого есть геттер, сеттер и делитер\n",
    "\n",
    "крч очень помогают сократить код чтоб не писать по 100 проперти и для каждого пука сеттер и геттер"
   ]
  },
  {
   "cell_type": "code",
   "execution_count": 12,
   "metadata": {},
   "outputs": [
    {
     "name": "stdout",
     "output_type": "stream",
     "text": [
      "__set__: _x = 1\n",
      "__set__: _y = 2\n",
      "__set__: _z = 3\n",
      "{'_x': 1, '_y': 2, '_z': 3}\n"
     ]
    }
   ],
   "source": [
    "class Integer:\n",
    "    @classmethod\n",
    "    def verify_coord(cls, coord): \n",
    "        if type(coord) != int: \n",
    "            raise TypeError('Координата должна быть числом')\n",
    "        \n",
    "    def __set_name__(self, owner, name):\n",
    "        self.name = \"_\" + name\n",
    " \n",
    "    def __get__(self, instance, owner):\n",
    "        return getattr(instance, self.name)\n",
    "      \n",
    "    def __set__(self, instance, value):\n",
    "        self.verify_coord(value)\n",
    "        print(f\"__set__: {self.name} = {value}\")\n",
    "        setattr(instance, self.name, value)\n",
    "\n",
    "class Point3D:\n",
    "    x = Integer()\n",
    "    y = Integer()\n",
    "    z = Integer()\n",
    "    \n",
    "    def __init__(self, x, y, z):\n",
    "        self.x = x \n",
    "        self.y = y \n",
    "        self.z = z\n",
    "\n",
    "p = Point3D(1, 2, 3)\n",
    "print(p.__dict__)\n",
    "\n",
    "del Point3D"
   ]
  },
  {
   "cell_type": "code",
   "execution_count": null,
   "metadata": {},
   "outputs": [],
   "source": []
  }
 ],
 "metadata": {
  "kernelspec": {
   "display_name": "Python 3",
   "language": "python",
   "name": "python3"
  },
  "language_info": {
   "codemirror_mode": {
    "name": "ipython",
    "version": 3
   },
   "file_extension": ".py",
   "mimetype": "text/x-python",
   "name": "python",
   "nbconvert_exporter": "python",
   "pygments_lexer": "ipython3",
   "version": "3.13.2"
  }
 },
 "nbformat": 4,
 "nbformat_minor": 2
}
