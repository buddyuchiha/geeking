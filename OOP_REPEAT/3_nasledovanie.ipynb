{
 "cells": [
  {
   "cell_type": "markdown",
   "metadata": {},
   "source": [
    "__#20. Наследование в объектно-ориентированном программировании__"
   ]
  },
  {
   "cell_type": "markdown",
   "metadata": {},
   "source": [
    "__В PYTHON ВСЕ КЛАССЫ НАСЛЕДУЮТСЯ ОТ object__\n",
    "\n",
    "Geom - родительский класс \n",
    "\n",
    "Line - подкласс или дочерний класс\n",
    "\n",
    "при вызове метода он сначала ищется в дочернем классе, если его там нет, то он ищется в родительском\n",
    "\n",
    "параметр self в родительских классах может также ссылаться на объекты дочерних классов\n",
    "\n",
    "в родительском классе лучше не вызывать методы дочерних классов"
   ]
  },
  {
   "cell_type": "code",
   "execution_count": null,
   "metadata": {},
   "outputs": [
    {
     "name": "stdout",
     "output_type": "stream",
     "text": [
      "Line Geom\n"
     ]
    }
   ],
   "source": [
    "class Geom: \n",
    "    name = 'Geom'\n",
    "\n",
    "    def set_coords(self, x1, y1, x2, y2):\n",
    "        self.x1 = x1\n",
    "        self.x2 = x2\n",
    "        self.y1 = y1\n",
    "        self.y2 = y2\n",
    "\n",
    "class Line(Geom): \n",
    "    name = 'Line'\n",
    "    def draw(self):\n",
    "        print(\"Рисование линии\")\n",
    "\n",
    "class Rect(Geom): \n",
    "    def draw(self):\n",
    "        print(\"Рисование прямоугольника\")\n",
    "\n",
    "\n",
    "g = Geom()\n",
    "l = Line()\n",
    "r = Rect()\n",
    "l.set_coords(1, 2, 3, 4)\n",
    "r.set_coords(1, 2, 3, 4)\n",
    "print(l.name, r.name)"
   ]
  },
  {
   "cell_type": "markdown",
   "metadata": {},
   "source": [
    "__#21. Функция issubclass(). Наследование от встроенных типов и от object__"
   ]
  },
  {
   "cell_type": "markdown",
   "metadata": {},
   "source": [
    "отличие isinstance от issubclass в том, что сабкласс работает только с классами, а исинстэнс можтет работать и с объектами  \n",
    "\n",
    "все встроенные типы данных питона являются классами"
   ]
  },
  {
   "cell_type": "code",
   "execution_count": null,
   "metadata": {},
   "outputs": [
    {
     "name": "stdout",
     "output_type": "stream",
     "text": [
      "True\n"
     ]
    }
   ],
   "source": [
    "class Geom(): \n",
    "    pass \n",
    "\n",
    "class Line(Geom): \n",
    "    pass\n",
    "\n",
    "print(issubclass(Line, Geom))"
   ]
  },
  {
   "cell_type": "code",
   "execution_count": 10,
   "metadata": {},
   "outputs": [
    {
     "name": "stdout",
     "output_type": "stream",
     "text": [
      "1-2-3\n"
     ]
    }
   ],
   "source": [
    "class Vector(list): \n",
    "    def __str__(self):\n",
    "        return \"-\".join(map(str, self))\n",
    "    \n",
    "v = Vector([1, 2, 3])\n",
    "print(v)"
   ]
  }
 ],
 "metadata": {
  "kernelspec": {
   "display_name": "Python 3",
   "language": "python",
   "name": "python3"
  },
  "language_info": {
   "codemirror_mode": {
    "name": "ipython",
    "version": 3
   },
   "file_extension": ".py",
   "mimetype": "text/x-python",
   "name": "python",
   "nbconvert_exporter": "python",
   "pygments_lexer": "ipython3",
   "version": "3.13.2"
  }
 },
 "nbformat": 4,
 "nbformat_minor": 2
}
