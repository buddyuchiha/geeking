{
 "cells": [
  {
   "cell_type": "markdown",
   "metadata": {},
   "source": [
    "__#20. Наследование в объектно-ориентированном программировании__"
   ]
  },
  {
   "cell_type": "markdown",
   "metadata": {},
   "source": [
    "__В PYTHON ВСЕ КЛАССЫ НАСЛЕДУЮТСЯ ОТ object__\n",
    "\n",
    "Geom - родительский класс \n",
    "\n",
    "Line - подкласс или дочерний класс\n",
    "\n",
    "при вызове метода он сначала ищется в дочернем классе, если его там нет, то он ищется в родительском\n",
    "\n",
    "параметр self в родительских классах может также ссылаться на объекты дочерних классов\n",
    "\n",
    "в родительском классе лучше не вызывать методы дочерних классов"
   ]
  },
  {
   "cell_type": "code",
   "execution_count": 64,
   "metadata": {},
   "outputs": [
    {
     "name": "stdout",
     "output_type": "stream",
     "text": [
      "Line Geom\n"
     ]
    }
   ],
   "source": [
    "class Geom: \n",
    "    name = 'Geom'\n",
    "\n",
    "    def set_coords(self, x1, y1, x2, y2):\n",
    "        self.x1 = x1\n",
    "        self.x2 = x2\n",
    "        self.y1 = y1\n",
    "        self.y2 = y2\n",
    "\n",
    "class Line(Geom): \n",
    "    name = 'Line'\n",
    "    def draw(self):\n",
    "        print(\"Рисование линии\")\n",
    "\n",
    "class Rect(Geom): \n",
    "    def draw(self):\n",
    "        print(\"Рисование прямоугольника\")\n",
    "\n",
    "\n",
    "g = Geom()\n",
    "l = Line()\n",
    "r = Rect()\n",
    "l.set_coords(1, 2, 3, 4)\n",
    "r.set_coords(1, 2, 3, 4)\n",
    "print(l.name, r.name)\n",
    "del Geom\n",
    "del Line \n",
    "del Rect "
   ]
  },
  {
   "cell_type": "markdown",
   "metadata": {},
   "source": [
    "__#21. Функция issubclass(). Наследование от встроенных типов и от object__"
   ]
  },
  {
   "cell_type": "markdown",
   "metadata": {},
   "source": [
    "отличие isinstance от issubclass в том, что сабкласс работает только с классами, а исинстэнс можтет работать и с объектами  \n",
    "\n",
    "все встроенные типы данных питона являются классами"
   ]
  },
  {
   "cell_type": "code",
   "execution_count": 65,
   "metadata": {},
   "outputs": [
    {
     "name": "stdout",
     "output_type": "stream",
     "text": [
      "True\n"
     ]
    }
   ],
   "source": [
    "class Geom(): \n",
    "    pass \n",
    "\n",
    "class Line(Geom): \n",
    "    pass\n",
    "\n",
    "print(issubclass(Line, Geom))\n",
    "\n",
    "del Geom\n",
    "del Line"
   ]
  },
  {
   "cell_type": "code",
   "execution_count": 66,
   "metadata": {},
   "outputs": [
    {
     "name": "stdout",
     "output_type": "stream",
     "text": [
      "1-2-3\n"
     ]
    }
   ],
   "source": [
    "class Vector(list): \n",
    "    def __str__(self):\n",
    "        return \"-\".join(map(str, self))\n",
    "    \n",
    "v = Vector([1, 2, 3])\n",
    "print(v)\n",
    "del Vector"
   ]
  },
  {
   "cell_type": "markdown",
   "metadata": {},
   "source": [
    "\n",
    "__#22. Наследование. Функция super() и делегирование__"
   ]
  },
  {
   "cell_type": "markdown",
   "metadata": {},
   "source": [
    "Если у нас имеется базовый класс и мы создаем дочерний класс, в котором дописывается дополнительный функционал, то это все называется __расширением__ базового класса.\n",
    "\n",
    "Однако если есть допустим схожие функции в базовом и дочернем классах, но они ведут себя по разному, то это называется переопределением.\n",
    "\n",
    "Не рекомендуется явно обращаться к базовому классу, так как при изменении иерархии или его названия могут появиться ошибки.\n",
    "\n",
    "Для обращения к базовому классу используется специальная функция super(). Она возвращает объект -> self писать не нужно. \n",
    "\n",
    "Также инициализатор базового класса нужно вызывать в самую первую очередь.\n",
    "\n",
    "Вызов через super() называется __делегированием__, то есть мы как бы делегируем некие действия."
   ]
  },
  {
   "cell_type": "code",
   "execution_count": 67,
   "metadata": {},
   "outputs": [
    {
     "name": "stdout",
     "output_type": "stream",
     "text": [
      "Инициализатор Geom был вызван для <class '__main__.Line'>\n",
      "Инициализатор Geom был вызван для <class '__main__.Rect'>\n",
      "Был вызван React инициализатор\n",
      "{'x1': 1, 'x2': 3, 'y1': 2, 'y2': 4}\n"
     ]
    }
   ],
   "source": [
    "class Geom: \n",
    "    name = 'Geom'\n",
    "\n",
    "    def __init__(self, x1, y1, x2, y2): \n",
    "        print(f\"Инициализатор Geom был вызван для {self.__class__}\")\n",
    "        self.x1 = x1\n",
    "        self.x2 = x2\n",
    "        self.y1 = y1\n",
    "        self.y2 = y2\n",
    "\n",
    "class Line(Geom): \n",
    "    def draw(self): \n",
    "        print(\"Рисование линии\")\n",
    "\n",
    "class Rect(Geom): \n",
    "    def __init__(self, x1, y1, x2, y2, fill = None): \n",
    "        super().__init__(x1, y1, x2, y2)\n",
    "        print(\"Был вызван React инициализатор\")\n",
    "        self.fill = fill \n",
    "\n",
    "    def draw(self): \n",
    "        print(\"Рисование линии\")\n",
    "\n",
    "l = Line(1, 2, 3, 4)\n",
    "r = Rect(2, 2, 2, 2)\n",
    "print(l.__dict__)\n",
    "\n",
    "del Geom\n",
    "del Line \n",
    "del Rect"
   ]
  },
  {
   "cell_type": "markdown",
   "metadata": {},
   "source": [
    "\n",
    "__#23. Наследование. Атрибуты private и protected__"
   ]
  },
  {
   "cell_type": "markdown",
   "metadata": {},
   "source": [
    "крч протектед атрибуты базового нельзя в дочерних классах вызывать и использовать\n",
    "\n",
    "к приватным атрибутам можно обращаться только внутри того класса, в котором они определены, в дочерних нельзя "
   ]
  },
  {
   "cell_type": "code",
   "execution_count": 68,
   "metadata": {},
   "outputs": [
    {
     "name": "stdout",
     "output_type": "stream",
     "text": [
      "инициализатор Geom для <class '__main__.Rect'>\n",
      "(0, 10)\n",
      "{'_Geom__x1': 0, '_Geom__y1': 0, '_Geom__x2': 10, '_Geom__y2': 20, '_Rect__fill': 'red'}\n"
     ]
    }
   ],
   "source": [
    "class Geom:\n",
    "    name = 'Geom'\n",
    " \n",
    "    def __init__(self, x1, y1, x2, y2):\n",
    "        print(f\"инициализатор Geom для {self.__class__}\")\n",
    "        self.__x1 = x1\n",
    "        self.__y1 = y1\n",
    "        self.__x2 = x2\n",
    "        self.__y2 = y2\n",
    "    \n",
    "    def __verify_coords(self, coord): \n",
    "        return 0 <= coord < 100\n",
    "\n",
    "    def get_coords(self): \n",
    "        return ((self.__x1, self.__x2))\n",
    "\n",
    "class Rect(Geom):\n",
    "    def __init__(self, x1, y1, x2, y2, fill='red'):\n",
    "        super().__init__(x1, y1, x2, y2)\n",
    "        self.__fill = fill\n",
    "\n",
    "r = Rect(0, 0, 10, 20)\n",
    "print(r.get_coords())\n",
    "print(r.__dict__)\n",
    "\n",
    "del Geom \n",
    "del Rect"
   ]
  },
  {
   "cell_type": "markdown",
   "metadata": {},
   "source": [
    "__#24. Полиморфизм и абстрактные методы__"
   ]
  },
  {
   "cell_type": "markdown",
   "metadata": {},
   "source": [
    "Полиморфизм - возможность работы с совершенно разными объектами единым образом."
   ]
  },
  {
   "cell_type": "code",
   "execution_count": 69,
   "metadata": {},
   "outputs": [
    {
     "name": "stdout",
     "output_type": "stream",
     "text": [
      "6\n",
      "14\n",
      "40\n",
      "80\n",
      "6\n",
      "15\n"
     ]
    }
   ],
   "source": [
    "class Geom: \n",
    "    def get_pr(self):\n",
    "        raise NotImplementedError(\"Метод get_pr не определен!\")\n",
    "\n",
    "class Rectangle(Geom):\n",
    "    def __init__(self, w, h):\n",
    "        self.w = w\n",
    "        self.h = h\n",
    " \n",
    "    def get_pr(self):\n",
    "        return 2*(self.w+self.h)\n",
    " \n",
    "class Square(Geom):\n",
    "    def __init__(self, a):\n",
    "        self.a = a\n",
    " \n",
    "    def get_pr(self):\n",
    "        return 4*self.a\n",
    "    \n",
    "class Triangle(Geom):\n",
    "    def __init__(self, a, b, c):\n",
    "        self.a = a\n",
    "        self.b = b\n",
    "        self.c = c\n",
    " \n",
    "    def get_pr(self):\n",
    "        return self.a + self.b + self.c\n",
    "    \n",
    "r1 = Rectangle(1, 2)\n",
    "r2 = Rectangle(3, 4)\n",
    "s1 = Square(10)\n",
    "s2 = Square(20)\n",
    "t1 = Triangle(1, 2, 3)\n",
    "t2 = Triangle(4, 5, 6)\n",
    "\n",
    "geom = [r1, r2, s1, s2, t1, t2]\n",
    "for g in geom: \n",
    "    print(g.get_pr())\n",
    "\n",
    "del Geom \n",
    "del Rectangle\n",
    "del Square \n",
    "del Triangle"
   ]
  },
  {
   "cell_type": "markdown",
   "metadata": {},
   "source": [
    "\n",
    "__#25. Множественное наследование__"
   ]
  },
  {
   "cell_type": "markdown",
   "metadata": {},
   "source": [
    "В языке Python допускается множественное наслежование - когда один дочерний класс наследуется от нескольких базовых.\n",
    "\n",
    "В Python существует определенный алгоритм обхода базовых классов при множественном наследовании MRO - Method Resolution Order. \n",
    "\n",
    "Сначалаа обращается к дочернему классу, потом к первому записанному базовому, затем к остальным базовым, а потом уже к object. Для проверки маг.метод mro\n",
    "\n",
    "В второстепенных юазовых классах в инициализаторе лучше не передавать любые другие параметры кроме self, так как могут быть ошибки"
   ]
  },
  {
   "cell_type": "code",
   "execution_count": 70,
   "metadata": {},
   "outputs": [
    {
     "name": "stdout",
     "output_type": "stream",
     "text": [
      "init MixinLog\n",
      "init Goods\n",
      "Вызов print_info из MixinLog\n",
      "1 товар был продан в 00:00 часов\n",
      "Вызов print_info из MixinLog\n",
      "(<class '__main__.Notebook'>, <class '__main__.Goods'>, <class '__main__.MixinLog'>, <class 'object'>)\n"
     ]
    }
   ],
   "source": [
    "class Goods:\n",
    "    def __init__(self, name, weight, price):\n",
    "        super().__init__()\n",
    "        print(\"init Goods\")\n",
    "        self.name = name\n",
    "        self.weight = weight\n",
    "        self.price = price\n",
    " \n",
    "    def print_info(self):\n",
    "        print(f\"{self.name}, {self.weight}, {self.price}\")\n",
    "\n",
    "class MixinLog: \n",
    "    ID = 0 \n",
    "\n",
    "    def __init__(self): \n",
    "        print(\"init MixinLog\")\n",
    "        self.ID += 1 \n",
    "        self.id = self.ID \n",
    "\n",
    "    def save_sell_log(self): \n",
    "        print(f\"{self.id} товар был продан в 00:00 часов\")\n",
    "\n",
    "    def print_info(self):\n",
    "        print(\"Вызов print_info из MixinLog\")\n",
    "\n",
    "class Notebook(Goods, MixinLog): \n",
    "    def print_info(self):\n",
    "        MixinLog.print_info(self)\n",
    "\n",
    "n = Notebook(\"Acer\", 1.5, 30000)\n",
    "n.print_info()\n",
    "n.save_sell_log()\n",
    "n.print_info()\n",
    "print(Notebook.__mro__)\n",
    "\n",
    "del Goods\n",
    "del MixinLog\n",
    "del Notebook"
   ]
  },
  {
   "cell_type": "markdown",
   "metadata": {},
   "source": [
    "__#26. Коллекция slots__"
   ]
  },
  {
   "cell_type": "markdown",
   "metadata": {},
   "source": [
    "Нужна чтоб указывать какие конкретно __локальные__ свойства может иметь класс.\n",
    "\n",
    "Поставить например ограничение на 2 конкретные переменные и не больше. \n",
    "\n",
    "При добавлении слотс - отсутствует метод dict \n",
    "\n",
    "Также позволяет оптимизировать и уменьшить потребляемую память."
   ]
  },
  {
   "cell_type": "code",
   "execution_count": 71,
   "metadata": {},
   "outputs": [],
   "source": [
    "class Point: \n",
    "    def __init__(self, x, y):\n",
    "        self.x = x \n",
    "        self.y = y \n",
    "\n",
    "class Point2D: \n",
    "    __slots__ = ('x', 'y') \n",
    "    MAX_COORD = 100\n",
    "\n",
    "    def __init__(self, x, y):\n",
    "        self.x = x \n",
    "        self.y = y\n",
    "\n",
    "pt2 = Point2D(10, 20)\n",
    "\n",
    "del Point \n",
    "del Point2D"
   ]
  },
  {
   "cell_type": "markdown",
   "metadata": {},
   "source": [
    "__#27. Как работает slots с property и при наследовании__"
   ]
  },
  {
   "cell_type": "code",
   "execution_count": 80,
   "metadata": {},
   "outputs": [],
   "source": [
    "class Point2D: \n",
    "    __slots__ = ('x', 'y') \n",
    "\n",
    "    def __init__(self, x, y):\n",
    "        self.x = x \n",
    "        self.y = y\n",
    "\n",
    "class Point3D(Point2D):\n",
    "    __slots__ = ('z',)\n",
    "\n",
    "pt3 = Point3D(1, 2)\n",
    "pt3.z = 10"
   ]
  }
 ],
 "metadata": {
  "kernelspec": {
   "display_name": "Python 3",
   "language": "python",
   "name": "python3"
  },
  "language_info": {
   "codemirror_mode": {
    "name": "ipython",
    "version": 3
   },
   "file_extension": ".py",
   "mimetype": "text/x-python",
   "name": "python",
   "nbconvert_exporter": "python",
   "pygments_lexer": "ipython3",
   "version": "3.13.2"
  }
 },
 "nbformat": 4,
 "nbformat_minor": 2
}
