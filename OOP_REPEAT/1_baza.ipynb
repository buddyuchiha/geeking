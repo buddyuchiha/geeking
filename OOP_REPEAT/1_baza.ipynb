{
 "cells": [
  {
   "cell_type": "markdown",
   "metadata": {},
   "source": [
    "ООП - Объектно-ориентированное программирование"
   ]
  },
  {
   "cell_type": "markdown",
   "metadata": {},
   "source": [
    "Принципы:"
   ]
  },
  {
   "cell_type": "markdown",
   "metadata": {},
   "source": [
    "Инкапсуляция: Прячем всё ненужное\n",
    "\n",
    "\"Меньше знаешь - крепче спишь\"\n",
    "\n",
    "Инкапсуляция - это когда мы скрываем внутренние детали объекта и предоставляем доступ только к тому, что нужно. Представь, что ты пользуешься смартфоном. Ты ведь не думаешь о том, как именно он подключается к интернету, ты просто открываешь приложение и оно работает.\n"
   ]
  },
  {
   "cell_type": "markdown",
   "metadata": {},
   "source": [
    "Наследование: Берём лучшее от родителей\n",
    "\n",
    "\"Не изобретай велосипед - возьми уже готовый и улучшай\"\n",
    "\n",
    "Наследование позволяет одному классу унаследовать свойства и методы другого. Это как ребёнок, который перенимает навыки родителей, но добавляет что-то своё."
   ]
  },
  {
   "cell_type": "markdown",
   "metadata": {},
   "source": [
    " Полиморфизм: Один интерфейс - много форм\n",
    " \n",
    "\"Один и тот же метод может работать по-разному в зависимости от объекта\"\n",
    "\n",
    "Полиморфизм позволяет использовать один и тот же метод для разных классов. Это как нажатие кнопки \"Играть\" в приложении: в одном случае запускается музыка, в другом – видео."
   ]
  },
  {
   "cell_type": "markdown",
   "metadata": {},
   "source": [
    "Абстракция: Главное - суть, детали - потом\n",
    "\n",
    "\"Отделяем мух от котлет\"\n",
    "\n",
    "Абстракция позволяет сосредоточиться на сути, скрывая сложные детали. Например, когда ты ведёшь машину, ты нажимаешь на педаль газа, не думая о том, как топливо поступает в двигатель."
   ]
  },
  {
   "cell_type": "markdown",
   "metadata": {},
   "source": [
    "__#1. Классы и объекты. Атрибуты классов и объектов__"
   ]
  },
  {
   "cell_type": "markdown",
   "metadata": {},
   "source": [
    "По стандарту PEP8 - имя класса с заглавной буквы.\n",
    "\n",
    "Переменные внутри класса - атрибуты класса или же его свойства.\n",
    "\n",
    "Если в классе не существует атрибута, которому мы хотим присвоить какое-лиюо значение, то оно днамически добавляется в класс.\n",
    "\n",
    "getattr() - позволяет брать и читать атрибуты из класса\n",
    "\n",
    "Для удаления атрибутов используется del или delattr()\n",
    "Для того чтобы проверить существует ли атрибут hassatr()"
   ]
  },
  {
   "cell_type": "code",
   "execution_count": 43,
   "metadata": {},
   "outputs": [
    {
     "name": "stdout",
     "output_type": "stream",
     "text": [
      "black\n",
      "green\n",
      "black\n",
      "disc\n",
      "1\n",
      "Класс точка\n"
     ]
    }
   ],
   "source": [
    "class Point:\n",
    "    \"Класс точка\"\n",
    "    color = 'red'\n",
    "    circle = 2\n",
    "\n",
    "Point.color = 'black'\n",
    "\n",
    "print(Point.color)\n",
    "\n",
    "a = Point()\n",
    "b = Point()\n",
    "\n",
    "type(a)\n",
    "\n",
    "a.color = \"green\"\n",
    "print(a.color)\n",
    "print(b.color)\n",
    "\n",
    "Point.type_pt = 'disc'\n",
    "print(a.type_pt)\n",
    "\n",
    "setattr(Point, 'prop', 1)\n",
    "b_prop = b.prop\n",
    "print(b_prop)\n",
    "\n",
    "getattr(Point, 'color')\n",
    "\n",
    "del Point.prop\n",
    "hasattr (Point, 'prop')\n",
    "\n",
    "print(Point.__doc__)\n",
    "\n",
    "del Point"
   ]
  },
  {
   "cell_type": "markdown",
   "metadata": {},
   "source": [
    "__#2. Методы классов. Параметр self__"
   ]
  },
  {
   "cell_type": "markdown",
   "metadata": {},
   "source": [
    "Свойства - данные\n",
    "\n",
    "Методы - действия\n",
    "\n",
    "Если создать объект класса и вызвать какой-либо метод, который не требует атрибутов - произойдет ошибка, так как при вызове метода интерпретатор языка пайтон автоматически в качестве 1 аргумента подставляет параметр self, который является ссылкой на экземпляр класса Point (если делать через def set_coords()).\n",
    "\n",
    "Чтобы избежать это, нужно добавлять параметр self -> def set__cords(self):\n",
    "\n",
    "Но это не позволит вызывать метод из класса без указания атрибута self, то есть будет выдавать ошибку при Point.set_coords() и не выдавать при Point.set_coords(pt)\n",
    "\n",
    "self позволяет работать с локальными атрибутами конкртного экземпляра класса"
   ]
  },
  {
   "cell_type": "code",
   "execution_count": 44,
   "metadata": {},
   "outputs": [
    {
     "name": "stdout",
     "output_type": "stream",
     "text": [
      "(1, 2)\n"
     ]
    }
   ],
   "source": [
    "class Point:\n",
    "    color = 'red'\n",
    "    circle = 2\n",
    "\n",
    "    def set_coords(self, x, y):\n",
    "        self.x = x\n",
    "        self.y = y\n",
    "\n",
    "    def get_coords(self):\n",
    "        return(self.x, self.y)\n",
    "\n",
    "pt = Point()\n",
    "pt.set_coords(1, 2)\n",
    "print(pt.get_coords())\n",
    "\n",
    "del Point"
   ]
  },
  {
   "cell_type": "markdown",
   "metadata": {},
   "source": [
    "__#3. Инициализатор __init__ и финализатор __del____"
   ]
  },
  {
   "cell_type": "markdown",
   "metadata": {},
   "source": [
    "init(self) - инициаилазитор объекта класса, вызывается после создания объекта класса\n",
    "\n",
    "del(self) - финализатор объекта класса,вызывается перед уничтожением объекта класса\n",
    "\n",
    "При создании объекта вызывается метод new, затем init"
   ]
  },
  {
   "cell_type": "code",
   "execution_count": 45,
   "metadata": {},
   "outputs": [
    {
     "name": "stdout",
     "output_type": "stream",
     "text": [
      "Удаление экземпляра\n"
     ]
    }
   ],
   "source": [
    "class Point:\n",
    "    color = 'red'\n",
    "    circle = 2\n",
    "\n",
    "    def __init__(self, x=0, y=0):\n",
    "        self.x = x\n",
    "        self.y = y\n",
    "\n",
    "    def __del__(self):\n",
    "        print(\"Удаление экземпляра\")\n",
    "\n",
    "    def set_coords(self, x, y):\n",
    "        self.x = x\n",
    "        self.y = y\n",
    "\n",
    "    def get_coords(self):\n",
    "        return(self.x, self.y)\n",
    "    \n",
    "pt = Point(10, 20)\n",
    "pt2 = Point\n",
    "pt = 0 # <- удаляется экземпляр\n",
    "\n",
    "del Point"
   ]
  },
  {
   "cell_type": "markdown",
   "metadata": {},
   "source": [
    "__#4. Магический метод new. Пример паттерна Singleton__"
   ]
  },
  {
   "cell_type": "markdown",
   "metadata": {},
   "source": [
    "new вызывается перед созданием объекта класса\n",
    "\n",
    "cls ссылается на класс\n",
    "\n",
    "self на объект класса\n",
    "\n",
    "начиная с версии Python 3 все классы автоматически и неявно наследуются то базового класса object\n",
    "\n",
    "в программе должен существовать только один экземпляр этого класса в каждый момент ее работы. То есть, одновременно два объекта класса DataBase быть не должно. Чтобы это обеспечить и гарантировать, как раз и используется паттерн Singleton. Реализуем его для класса DataBase."
   ]
  },
  {
   "cell_type": "code",
   "execution_count": 46,
   "metadata": {},
   "outputs": [
    {
     "name": "stdout",
     "output_type": "stream",
     "text": [
      "вызов __new__ для <class '__main__.Point'>\n",
      "вызов __init__ для <__main__.Point object at 0x00000241021FB0E0>\n"
     ]
    }
   ],
   "source": [
    "class Point:\n",
    "    def __new__(cls, *args, **kwargs):\n",
    "        print(\"вызов __new__ для \" + str(cls))\n",
    "        return super().__new__(cls)\n",
    "\n",
    "    def __init__(self, x=0, y=0):\n",
    "        print(\"вызов __init__ для \" + str(self))\n",
    "        self.x = x\n",
    "        self.y = y\n",
    "\n",
    "pt = Point(1, 2)\n",
    "del Point"
   ]
  },
  {
   "cell_type": "code",
   "execution_count": 47,
   "metadata": {},
   "outputs": [
    {
     "name": "stdout",
     "output_type": "stream",
     "text": [
      "2478231760784 2478231760784\n"
     ]
    }
   ],
   "source": [
    "class DataBase:\n",
    "    __instance = None \n",
    "\n",
    "    def __new__(cls, *args, **kwargs):\n",
    "        if cls.__instance is None:\n",
    "            cls.__instance = super().__new__(cls)\n",
    "        return cls.__instance \n",
    "\n",
    "    def __del__(self):\n",
    "        DataBase.__instance = None\n",
    "\n",
    "\n",
    "    def __init__(self, user, psw, port):\n",
    "        self.user = user\n",
    "        self.psw = psw\n",
    "        self.port = port\n",
    " \n",
    "    def connect(self):\n",
    "        print(f\"соединение с БД: {self.user}, {self.psw}, {self.port}\")\n",
    " \n",
    "    def close(self):\n",
    "        print(\"закрытие соединения с БД\")\n",
    " \n",
    "    def read(self):\n",
    "        return \"данные из БД\"\n",
    " \n",
    "    def write(self, data):\n",
    "        print(f\"запись в БД {data}\")\n",
    "\n",
    "db = DataBase('root', '1234', 80)\n",
    "db2 = DataBase('root2', '5678', 40)\n",
    "print(id(db), id(db2))\n",
    "\n",
    "del DataBase"
   ]
  },
  {
   "cell_type": "markdown",
   "metadata": {},
   "source": [
    "__#5. Методы класса (classmethod) и статические методы (staticmethod)__"
   ]
  },
  {
   "cell_type": "markdown",
   "metadata": {},
   "source": [
    "методы класса (classmethod) могут работать или с переданными переменными, или с переменными класса, но никак не с локальными переменными (нужна ссылка cls на класс), используется для создания методов, которые привязаны к классу, а не к экземпляру.\n",
    "\n",
    "статический метод (staticmethod) - определяются методы, которые не имеют доступа не к атрибутам класса, не к атрибутам его экземпляра, эт самостоятельная функция, объяленная внутри класса для удобства"
   ]
  },
  {
   "cell_type": "code",
   "execution_count": 48,
   "metadata": {},
   "outputs": [
    {
     "name": "stdout",
     "output_type": "stream",
     "text": [
      "Норма вектора: 500\n",
      "(10, 20)\n",
      "True\n",
      "61\n"
     ]
    }
   ],
   "source": [
    "class Vector:\n",
    "    MIN_COORD = 0\n",
    "    MAX_COORD = 100\n",
    "\n",
    "    @classmethod \n",
    "    def validate(cls, arg):\n",
    "        return cls.MIN_COORD <= arg <= cls.MAX_COORD\n",
    "\n",
    "    def __init__(self, x, y):\n",
    "        self.x = self.y = 0\n",
    "        if self.validate(x) and self.validate(y):\n",
    "            self.x = x \n",
    "            self.y = y\n",
    "        print(\"Норма вектора:\", self.norm2(self.x, self.y))\n",
    "\n",
    "    def get_coord(self):\n",
    "        return self.x, self.y\n",
    "    \n",
    "    @staticmethod\n",
    "    def norm2(x, y):\n",
    "        return x*x + y*y\n",
    "    \n",
    "v = Vector(10, 20)\n",
    "res = v.get_coord()\n",
    "print(res)\n",
    "\n",
    "print(Vector.validate(5))\n",
    "print(Vector.norm2(5, 6))\n",
    "\n",
    "del Vector"
   ]
  },
  {
   "cell_type": "markdown",
   "metadata": {},
   "source": [
    "__#6. Режимы доступа public, private, protected. Сеттеры и геттеры__"
   ]
  },
  {
   "cell_type": "markdown",
   "metadata": {},
   "source": [
    "Механизмы инкапсуляции:\n",
    "\n",
    "1) без одного или двух подчеркиваний вначале - публичное свойство (public)\n",
    "2) с одним подчеркиванием - обращение внутри класса и во всех дочерних классах (protected)\n",
    "3) с двумя подчеркиваниями - для обращения только внутри класса (private)\n",
    "\n",
    "В питоне одно подчеркивание (protected) только сигнализируют программисту, что это защищиенные свойства, но никак не ограничивают к нему доступ извне\n",
    "\n",
    "Private же ограничивает полностью\n",
    "\n",
    "сеттер - позволяет задать протектед какие-либо значение\n",
    "\n",
    "геттер - получить их\n",
    "\n",
    "приватный метод определяется также, как и переменная\n",
    "\n",
    "НО через print(dir(pt)) можно вывести список всех свойств и обратиться через кодовые имена к private свойствам\n",
    "\n",
    "через модуль accessify дается прават и протектед декораторы нормалдесные, они сильнее чем два подчеркивания"
   ]
  },
  {
   "cell_type": "code",
   "execution_count": 49,
   "metadata": {},
   "outputs": [
    {
     "name": "stdout",
     "output_type": "stream",
     "text": [
      "(10, 20)\n",
      "['_Point__check_value', '_Point__x', '_Point__y', '__class__', '__delattr__', '__dict__', '__dir__', '__doc__', '__eq__', '__firstlineno__', '__format__', '__ge__', '__getattribute__', '__getstate__', '__gt__', '__hash__', '__init__', '__init_subclass__', '__le__', '__lt__', '__module__', '__ne__', '__new__', '__reduce__', '__reduce_ex__', '__repr__', '__setattr__', '__sizeof__', '__static_attributes__', '__str__', '__subclasshook__', '__weakref__', 'get_coord', 'set_coord']\n",
      "20\n"
     ]
    }
   ],
   "source": [
    "class Point:\n",
    "    def __init__(self, x=0, y=0):\n",
    "        self.__x = x\n",
    "        self.__y = y\n",
    "        if self.__check_value(x) and self.__check_value(y):\n",
    "            self.__x = x\n",
    "            self.__y = y\n",
    "        else: \n",
    "            raise ValueError(\"Координаты должны быть числами!\")\n",
    "\n",
    "\n",
    "    def __check_value(cls, x):\n",
    "        return type(x) in (int, float)\n",
    "    \n",
    "\n",
    "    def set_coord(self, x, y):\n",
    "        if self.__check_value(x) and self.__check_value(y):\n",
    "            self.__x = x\n",
    "            self.__y = y\n",
    "        else: \n",
    "            raise ValueError(\"Координаты должны быть числами!\")\n",
    "\n",
    "    def get_coord(self):\n",
    "        return self.__x, self.__y\n",
    "\n",
    "pt = Point(1, 2)\n",
    "pt.set_coord(10, 20)\n",
    "print(pt.get_coord())\n",
    "\n",
    "print(dir(pt))\n",
    "print(pt._Point__y)\n",
    "\n",
    "del Point"
   ]
  }
 ],
 "metadata": {
  "kernelspec": {
   "display_name": "Python 3",
   "language": "python",
   "name": "python3"
  },
  "language_info": {
   "codemirror_mode": {
    "name": "ipython",
    "version": 3
   },
   "file_extension": ".py",
   "mimetype": "text/x-python",
   "name": "python",
   "nbconvert_exporter": "python",
   "pygments_lexer": "ipython3",
   "version": "3.13.2"
  }
 },
 "nbformat": 4,
 "nbformat_minor": 2
}
