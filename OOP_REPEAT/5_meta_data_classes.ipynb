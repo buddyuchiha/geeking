{
 "cells": [
  {
   "cell_type": "markdown",
   "metadata": {},
   "source": [
    "__#33. Вложенные классы__"
   ]
  },
  {
   "cell_type": "markdown",
   "metadata": {},
   "source": [
    "Сам по себе экземпляр вложенного класса при создании экземлпяра базового не создается! Если мы хотим, чтоб он создавался - нужно прописать инициализацию в инициализаторе  \n",
    "\n",
    "Во вложенных классах нельзя обращаться напрямую к атрибутам основного класса никак, кроме инициализатора вложенного класса, что не рекомендуется!\n",
    "\n",
    "Подобное вложение используется для удобства, какого-то супер сакрального смысла в этом нет."
   ]
  },
  {
   "cell_type": "code",
   "execution_count": 51,
   "metadata": {},
   "outputs": [
    {
     "name": "stdout",
     "output_type": "stream",
     "text": [
      "{'_user': 'root', '_psw': '12345', 'meta': <__main__.Women.Meta object at 0x000001A21F4C3770>}\n",
      "{'_access': 'root@12345'}\n"
     ]
    }
   ],
   "source": [
    "class Women: \n",
    "    title = 'объект для поля title'\n",
    "    photo = 'объект класса для поля photo'\n",
    "    ordering = 'объект класса для поля ordering'\n",
    "\n",
    "    def __init__(self, user, psw):\n",
    "        self._user = user \n",
    "        self._psw = psw \n",
    "        self.meta = self.Meta(user + \"@\" + psw)\n",
    "\n",
    "    class Meta: \n",
    "        ordering = ['id']\n",
    "\n",
    "        def __init__(self, access): \n",
    "            self._access = access\n",
    "\n",
    "w =  Women('root', '12345')\n",
    "print(w.__dict__)\n",
    "print(w.meta.__dict__)\n",
    "\n",
    "del Women"
   ]
  },
  {
   "cell_type": "markdown",
   "metadata": {},
   "source": [
    "__#34. Метаклассы. Объект type__"
   ]
  },
  {
   "cell_type": "markdown",
   "metadata": {},
   "source": [
    "В пайтоне все классы эт обьекты, а объект, который позволяет создавать другие объекты - метакласс. \n",
    "\n",
    "В пайтоне метаклассом является объект type.\n",
    "\n",
    "type(name, bases, dct) - создаеть динамически новый класс\n",
    "\n",
    "\"Метакласс - это глубокая магия, о которой 99% пользователей даже не нужно задумываться. Если вы думаете, нужно ли вам их использовать - вам не нужно. (люди, которым они реально нужны, точно знают, зачем они им, и не нуждаются в объяснениях почему).\""
   ]
  },
  {
   "cell_type": "code",
   "execution_count": 52,
   "metadata": {},
   "outputs": [],
   "source": [
    "class Point: \n",
    "    MAX_COORD = 100 \n",
    "    MIN_COORD = 0 \n",
    "\n",
    "class B1: pass \n",
    "class B2: pass \n",
    "\n",
    "def method1(self):\n",
    "    print(self.__dict__)\n",
    "\n",
    "A = type('Point', (B1, B2), {'MAX_COORD': 100, 'MIN_COORD': 0, 'method1': lambda self: self.MAX_COORD}) # создали новый класс Point\n",
    "pt = A()\n",
    "pt.method1()\n",
    "\n",
    "del Point, B1, B2"
   ]
  },
  {
   "cell_type": "markdown",
   "metadata": {},
   "source": [
    "__#35. Пользовательские метаклассы. Параметр metaclass__"
   ]
  },
  {
   "cell_type": "markdown",
   "metadata": {},
   "source": [
    "В пайтон можно конструировать свои собственные метаклассы"
   ]
  },
  {
   "cell_type": "code",
   "execution_count": 53,
   "metadata": {},
   "outputs": [
    {
     "name": "stdout",
     "output_type": "stream",
     "text": [
      "100\n",
      "(0, 0)\n"
     ]
    }
   ],
   "source": [
    "# def create_class_point(name, base, attrs): # описали простейший метакласс\n",
    "#     attrs.update({'MAX_COORD': 100, 'MIN_COORD': 0})\n",
    "#     return type(name, base, attrs)\n",
    "\n",
    "class Meta(type):\n",
    "    def __init__(cls, name, base, attrs):\n",
    "        super().__init__(name, base, attrs)\n",
    "        cls.MAX_COORD = 100\n",
    "        cls.MIN_COORD = 0 \n",
    "\n",
    "class Point(metaclass=Meta): \n",
    "    def get_coords(self):\n",
    "        return (0, 0)\n",
    "    \n",
    "pt = Point()\n",
    "print(pt.MAX_COORD)\n",
    "print(pt.get_coords())\n",
    "\n",
    "del Meta, Point"
   ]
  },
  {
   "cell_type": "markdown",
   "metadata": {},
   "source": [
    "__#36. Метаклассы в API ORM Django__"
   ]
  },
  {
   "cell_type": "markdown",
   "metadata": {},
   "source": [
    "Django использует метаклассы для связи объектов с записями данных.\n"
   ]
  },
  {
   "cell_type": "code",
   "execution_count": 54,
   "metadata": {},
   "outputs": [
    {
     "name": "stdout",
     "output_type": "stream",
     "text": [
      "{'__module__': '__main__', '__qualname__': 'Women', '__firstlineno__': 10, 'title': 'заголовок', 'content': 'контент', 'photo': 'путь к фото', '__static_attributes__': ()}\n"
     ]
    }
   ],
   "source": [
    "class Meta(type):\n",
    "    def create_local_attrs(self, *args, **kwargs):\n",
    "        for key, value in self.class_attrs.items():\n",
    "            self.__dict__[key] = value \n",
    "\n",
    "    def __init__(cls, name, base, attrs):\n",
    "        cls.class_attrs = attrs \n",
    "        cls.__init__ = Meta.create_local_attrs  \n",
    "\n",
    "class Women(metaclass = Meta):\n",
    "    title = 'заголовок'\n",
    "    content = 'контент'\n",
    "    photo = 'путь к фото'\n",
    "\n",
    "w = Women()\n",
    "print(w.__dict__)\n",
    "\n",
    "del Meta, Women"
   ]
  },
  {
   "cell_type": "markdown",
   "metadata": {},
   "source": [
    "__#37. Введение в Python Data Classes (часть 1)__"
   ]
  },
  {
   "cell_type": "markdown",
   "metadata": {},
   "source": [
    "Dataclasses позволяет сократить написания типовой писанины для описания классов.\n",
    "\n",
    "При написании атрибутов в датаклассах их обязтельно нужно анотировать (писать тип данных какой str, int и т.п)\n",
    "\n",
    "В датаклассах автоматически добавляется метод repr и инициализатор.\n",
    "\n",
    "В датаклассах == или метод eq переопределены так, что при сравнении объектов сравниваются из переданные атрибуты, а не айдишники.\n",
    "\n",
    "При объявлении параметров в датаклассах, все значения по умолчанию должны быть в конце, так как может возникнуть ошибка.\n",
    "\n",
    "В датаклассах нельзя напрямую присаивать по умолчанию изменяемые объекты."
   ]
  },
  {
   "cell_type": "code",
   "execution_count": 55,
   "metadata": {},
   "outputs": [
    {
     "name": "stdout",
     "output_type": "stream",
     "text": [
      "[]\n"
     ]
    }
   ],
   "source": [
    "from dataclasses import dataclass, field\n",
    "\n",
    "class Thing:\n",
    "    def __init__(self, name , weight, price=0): \n",
    "        self.name = name \n",
    "        self.weight = weight \n",
    "        self.price = price \n",
    "\n",
    "    def __repr__(self): \n",
    "        return f\"Thing: {self.__dict__}\"\n",
    "    \n",
    "@dataclass \n",
    "class ThingData:\n",
    "# в датаклассах можно прописать следующие свои магические методы: init, repr, eq\n",
    "    name: str \n",
    "    weight: int \n",
    "    price: float = 0 # значение по умолчанию в конце\n",
    "    dims: list = field(default_factory = list) # пример как можно изменяемый объект присвоить\n",
    "    \n",
    "t = Thing(\"Учебник по Python\", 100, 1024)\n",
    "td = ThingData(\"Учебник по Python\", 100)\n",
    "td2 = ThingData(\"Учебник по Python\", 100)\n",
    "td.dims.append(10)\n",
    "print(td2.dims)"
   ]
  },
  {
   "cell_type": "code",
   "execution_count": 56,
   "metadata": {},
   "outputs": [
    {
     "name": "stdout",
     "output_type": "stream",
     "text": [
      "mappingproxy({'__annotations__': {'dims': <class 'list'>,\n",
      "                                  'name': <class 'str'>,\n",
      "                                  'price': <class 'float'>,\n",
      "                                  'weight': <class 'int'>},\n",
      "              '__dataclass_fields__': {'dims': Field(name='dims',type=<class 'list'>,default=<dataclasses._MISSING_TYPE object at 0x000001A21CEF9D30>,default_factory=<class 'list'>,init=True,repr=True,hash=None,compare=True,metadata=mappingproxy({}),kw_only=False,_field_type=_FIELD),\n",
      "                                       'name': Field(name='name',type=<class 'str'>,default=<dataclasses._MISSING_TYPE object at 0x000001A21CEF9D30>,default_factory=<dataclasses._MISSING_TYPE object at 0x000001A21CEF9D30>,init=True,repr=True,hash=None,compare=True,metadata=mappingproxy({}),kw_only=False,_field_type=_FIELD),\n",
      "                                       'price': Field(name='price',type=<class 'float'>,default=0,default_factory=<dataclasses._MISSING_TYPE object at 0x000001A21CEF9D30>,init=True,repr=True,hash=None,compare=True,metadata=mappingproxy({}),kw_only=False,_field_type=_FIELD),\n",
      "                                       'weight': Field(name='weight',type=<class 'int'>,default=<dataclasses._MISSING_TYPE object at 0x000001A21CEF9D30>,default_factory=<dataclasses._MISSING_TYPE object at 0x000001A21CEF9D30>,init=True,repr=True,hash=None,compare=True,metadata=mappingproxy({}),kw_only=False,_field_type=_FIELD)},\n",
      "              '__dataclass_params__': _DataclassParams(init=True,repr=True,eq=True,order=False,unsafe_hash=False,frozen=False,match_args=True,kw_only=False,slots=False,weakref_slot=False),\n",
      "              '__dict__': <attribute '__dict__' of 'ThingData' objects>,\n",
      "              '__doc__': 'ThingData(name: str, weight: int, price: float = 0, '\n",
      "                         'dims: list = <factory>)',\n",
      "              '__eq__': <function ThingData.__eq__ at 0x000001A21F8A7B00>,\n",
      "              '__firstlineno__': 12,\n",
      "              '__hash__': None,\n",
      "              '__init__': <function ThingData.__init__ at 0x000001A21F8A7880>,\n",
      "              '__match_args__': ('name', 'weight', 'price', 'dims'),\n",
      "              '__module__': '__main__',\n",
      "              '__replace__': <function _replace at 0x000001A21CFC0A40>,\n",
      "              '__repr__': <function ThingData.__repr__ at 0x000001A21F8A7C40>,\n",
      "              '__static_attributes__': (),\n",
      "              '__weakref__': <attribute '__weakref__' of 'ThingData' objects>,\n",
      "              'price': 0})\n"
     ]
    }
   ],
   "source": [
    "from pprint import pprint # чтоб посмотреть че под капотом ThingData\n",
    "pprint(ThingData.__dict__)\n",
    "del Thing, ThingData"
   ]
  },
  {
   "cell_type": "markdown",
   "metadata": {},
   "source": [
    "__#38. Введение в Python Data Classes (часть 2)__"
   ]
  },
  {
   "cell_type": "markdown",
   "metadata": {},
   "source": [
    " Функция field() предоставляет богатый функционал по управлению объявляемых атрибутов в Data Classes. Мы увидели, как работают два ее параметра: init и default_factory. Довольно часто можно встретить использование еще трех:\n",
    "\n",
    "repr – булевое значение True/False указывает использовать ли атрибут в магическом методе __repr__() (по умолчанию True);\n",
    "\n",
    "compare – булевое значение True/False указывает использовать ли атрибут при сравнении объектов (по умолчанию True);\n",
    "\n",
    "default – значение по умолчанию (начальное значение).\n",
    "\n",
    "Все атрибуты InitVar сразу попадают в постинит"
   ]
  },
  {
   "cell_type": "markdown",
   "metadata": {},
   "source": [
    "До сих пор мы с вами использовали декоратор dataclass с параметрами по умолчанию. Однако ему можно передавать различные аргументы и управлять процессом формирования итогового класса. Вот основные параметры, которые принимает декоратор dataclass."
   ]
  },
  {
   "cell_type": "markdown",
   "metadata": {},
   "source": [
    "init = [True | False]\n",
    "\n",
    "Принимает булево значение, по умолчанию True. Если значение True, то в классе объявляется инициализатор, иначе – не объявляется.\n",
    "\n",
    "repr = [True | False]\n",
    "\n",
    "Принимает булево значение, по умолчанию True. Если значение True, то в классе объявляется магический метод __repr__(), иначе – не объявляется.\n",
    "\n",
    "eq = [True | False]\n",
    "\n",
    "Принимает булево значение, по умолчанию True. Если значение True, то в классе объявляется магический метод __eq__(), иначе – не объявляется.\n",
    "\n",
    "order = [True | False]\n",
    "\n",
    "Принимает булево значение, по умолчанию False. Если значение True, то в классе объявляются магические методы для операций сравнения <; <=; >; >=, иначе – не объявляются.\n",
    "\n",
    "unsafe_hash = [True | False]\n",
    "\n",
    "Влияет на формирование магического метода __hash__()\n",
    "\n",
    "frozen = [True | False]\n",
    "\n",
    "Принимает булево значение, по умолчанию False. Если значение True, то атрибуты объектов класса становятся неизменными (можно только проинициализировать один раз в инициализаторе).\n",
    "\n",
    "slots = [True | False]\n",
    "\n",
    "Принимает булево значение, по умолчанию False. Если значение True, то атрибуты объявляются в коллекции __slots__."
   ]
  },
  {
   "cell_type": "code",
   "execution_count": 57,
   "metadata": {},
   "outputs": [
    {
     "name": "stdout",
     "output_type": "stream",
     "text": [
      "V3D(y=2, z=3, length=3.7416573867739413)\n",
      "V3D(y=2, z=5, length=0)\n"
     ]
    }
   ],
   "source": [
    "from dataclasses import InitVar # чтоб можно было делать условия при вычислении выражений в датаклассах\n",
    "\n",
    "class Vector3D:\n",
    "    def __init__(self, x: int, y: int, z: int, calc_len: bool = True):\n",
    "        self.x = x\n",
    "        self.y = y\n",
    "        self.z = z\n",
    "        self.length = (x * x + y * y + z * z) ** 0.5 if calc_len else 0\n",
    "\n",
    "@dataclass\n",
    "class V3D:\n",
    "    x: int = field(repr=False)\n",
    "    y: int\n",
    "    z: int = field(compare=False)\n",
    "    calc_len: InitVar[bool] = True\n",
    "    length: float = field(init=False, compare=False, default=0) # говорит, что атрибут length не следует добавлять, как парметр в инициализатор\n",
    "\n",
    "    def __post_init__(self, calc_len: bool):\n",
    "        if calc_len:    \n",
    "            self.length = (self.x * self.x + self.y * self.y + self.z * self.z) ** 0.5\n",
    "\n",
    "\n",
    "v = V3D(1, 2, 3)\n",
    "v2 = V3D(1,2,5,False)\n",
    "print(v)\n",
    "print(v2)"
   ]
  },
  {
   "cell_type": "markdown",
   "metadata": {},
   "source": [
    "__#39. Python Data Classes при наследовании__"
   ]
  },
  {
   "cell_type": "markdown",
   "metadata": {},
   "source": [
    "Когда формируется базовый класс и дочерний класс и в инициализаторе вызывается пост_инит, пост_инит ищется сначала в дочернем классе, а уже потом в базовом."
   ]
  },
  {
   "cell_type": "code",
   "execution_count": 58,
   "metadata": {},
   "outputs": [
    {
     "name": "stdout",
     "output_type": "stream",
     "text": [
      "Goods: post_init\n",
      "Book: post_init\n",
      "Book(uid=1, price=1000, weight=100, title='Книга', author='Автор', measure=[0, 0, 0])\n"
     ]
    }
   ],
   "source": [
    "from dataclasses import dataclass, field, InitVar\n",
    "from typing import Any\n",
    " \n",
    "class GoodsMethodsFactory:\n",
    "    @staticmethod\n",
    "    def get_init_measure():\n",
    "        return [0, 0, 0]\n",
    "   \n",
    "@dataclass\n",
    "class Goods:\n",
    "    current_uid = 0 # так как он не аннотирован - инициализатор его пропустит\n",
    "    uid: int = field(init=False)\n",
    "    price: Any = None\n",
    "    weight: Any = None\n",
    "\n",
    "    def __post_init__(self): \n",
    "        print(\"Goods: post_init\")\n",
    "        Goods.current_uid += 1\n",
    "        self.uid = Goods.current_uid\n",
    "\n",
    "@dataclass\n",
    "class Book(Goods): \n",
    "    title: str = \"\"\n",
    "    author: str = \"\"\n",
    "    price: float = 0 \n",
    "    weight: int | float = 0\n",
    "    measure: list = field(default_factory=GoodsMethodsFactory.get_init_measure)\n",
    "\n",
    "    def __post_init__(self):\n",
    "        super().__post_init__()\n",
    "        print(\"Book: post_init\")    \n",
    "\n",
    "b = Book(1000, 100, \"Книга\", \"Автор\")\n",
    "print(b)"
   ]
  },
  {
   "cell_type": "markdown",
   "metadata": {},
   "source": [
    "Еще можно создать новый датакласс, используя функцию make_dataclass()\n",
    "\n",
    "Она имеет следующие наборы параметров:\n",
    "\n",
    "dataclasses.make_dataclass(cls_name, fields, *, bases=(), namespace=None, init=True, repr=True, eq=True, order=False, unsafe_hash=False, frozen=False, match_args=True, kw_only=False, slots=False, weakref_slot=False)\n",
    "\n",
    "Основные из них следующие:\n",
    "\n",
    "cls_name – название нового класса (в виде строки);\n",
    "\n",
    "fields – поля (локальные атрибуты) объектов класса;\n",
    "\n",
    "* - произвольный набор позиционных аргументов;\n",
    "\n",
    "bases – список базовых классов;\n",
    "\n",
    "namespace – словарь для определения атрибутов самого класса (например, так можно объявлять методы класса).\n",
    "\n",
    "Обычно, функцию make_dataclass() используют, если требуется сформировать класс данных в процессе работы программы. Если же нам нужно обычное объявление (а это наиболее частая ситуация), то гораздо удобнее использовать декоратор dataclass."
   ]
  },
  {
   "cell_type": "code",
   "execution_count": 59,
   "metadata": {},
   "outputs": [
    {
     "name": "stdout",
     "output_type": "stream",
     "text": [
      "CarData(model='BMW', max_speed=256, price=4096)\n",
      "256\n"
     ]
    }
   ],
   "source": [
    "from dataclasses import make_dataclass\n",
    "\n",
    "CarData = make_dataclass(\"CarData\", [(\"model\", str),\n",
    "                                     \"max_speed\",\n",
    "                                     (\"price\", float, field(default=0))],\n",
    "                         namespace={'get_max_speed': lambda self: self.max_speed})\n",
    "\n",
    "c = CarData(\"BMW\", 256, 4096)\n",
    "print(c)\n",
    "print(c.get_max_speed())"
   ]
  }
 ],
 "metadata": {
  "kernelspec": {
   "display_name": "Python 3",
   "language": "python",
   "name": "python3"
  },
  "language_info": {
   "codemirror_mode": {
    "name": "ipython",
    "version": 3
   },
   "file_extension": ".py",
   "mimetype": "text/x-python",
   "name": "python",
   "nbconvert_exporter": "python",
   "pygments_lexer": "ipython3",
   "version": "3.13.2"
  }
 },
 "nbformat": 4,
 "nbformat_minor": 2
}
