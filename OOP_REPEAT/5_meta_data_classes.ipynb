{
 "cells": [
  {
   "cell_type": "markdown",
   "metadata": {},
   "source": [
    "__#33. Вложенные классы__"
   ]
  },
  {
   "cell_type": "markdown",
   "metadata": {},
   "source": [
    "Сам по себе экземпляр вложенного класса при создании экземлпяра базового не создается! Если мы хотим, чтоб он создавался - нужно прописать инициализацию в инициализаторе  \n",
    "\n",
    "Во вложенных классах нельзя обращаться напрямую к атрибутам основного класса никак, кроме инициализатора вложенного класса, что не рекомендуется!\n",
    "\n",
    "Подобное вложение используется для удобства, какого-то супер сакрального смысла в этом нет."
   ]
  },
  {
   "cell_type": "code",
   "execution_count": null,
   "metadata": {},
   "outputs": [
    {
     "name": "stdout",
     "output_type": "stream",
     "text": [
      "{'_user': 'root', '_psw': '12345', '_meta': <__main__.Women.Meta object at 0x000001A21ED42BA0>}\n",
      "{'_access': 'root@12345'}\n"
     ]
    }
   ],
   "source": [
    "class Women: \n",
    "    title = 'объект для поля title'\n",
    "    photo = 'объект класса для поля photo'\n",
    "    ordering = 'объект класса для поля ordering'\n",
    "\n",
    "    def __init__(self, user, psw):\n",
    "        self._user = user \n",
    "        self._psw = psw \n",
    "        self.meta = self.Meta(user + \"@\" + psw)\n",
    "\n",
    "    class Meta: \n",
    "        ordering = ['id']\n",
    "\n",
    "        def __init__(self, access): \n",
    "            self._access = access\n",
    "\n",
    "w =  Women('root', '12345')\n",
    "print(w.__dict__)\n",
    "print(w.meta.__dict__)"
   ]
  }
 ],
 "metadata": {
  "kernelspec": {
   "display_name": "Python 3",
   "language": "python",
   "name": "python3"
  },
  "language_info": {
   "codemirror_mode": {
    "name": "ipython",
    "version": 3
   },
   "file_extension": ".py",
   "mimetype": "text/x-python",
   "name": "python",
   "nbconvert_exporter": "python",
   "pygments_lexer": "ipython3",
   "version": "3.13.2"
  }
 },
 "nbformat": 4,
 "nbformat_minor": 2
}
