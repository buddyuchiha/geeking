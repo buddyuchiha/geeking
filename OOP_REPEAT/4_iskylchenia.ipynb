{
 "cells": [
  {
   "cell_type": "markdown",
   "metadata": {},
   "source": [
    "__#28. Введение в обработку исключений. Блоки try / except__"
   ]
  },
  {
   "cell_type": "markdown",
   "metadata": {},
   "source": [
    "Существуют исключения в момент исполнения и исключения при компиляции.\n",
    "\n",
    "Во главе иерархии всех исключений стоит Base Exception.\n",
    "\n",
    "Большая часть классов исключений наследуется от Exception.\n",
    "\n",
    "Сначала прописывается блок с определенными исключениями (например ValueError), а потом блок с общими (Exception).\n",
    "\n",
    "Если просто оставить Except, то будут ловиться все исключения."
   ]
  },
  {
   "cell_type": "code",
   "execution_count": 24,
   "metadata": {},
   "outputs": [
    {
     "name": "stdout",
     "output_type": "stream",
     "text": [
      "Штатное завершение\n"
     ]
    }
   ],
   "source": [
    "try: \n",
    "    x, y = map(int, input().split())\n",
    "    res = x / y\n",
    "except ValueError: \n",
    "    print(\"Ошибка типа данных\")\n",
    "except Exception: \n",
    "    print(\"Деление на ноль\")\n",
    "\n",
    "print(\"Штатное завершение\")"
   ]
  },
  {
   "cell_type": "markdown",
   "metadata": {},
   "source": [
    "__#29. Обработка исключений. Блоки finally и else__"
   ]
  },
  {
   "cell_type": "markdown",
   "metadata": {},
   "source": [
    "else выполняется если не прозошли ошибки в блоке try\n",
    "\n",
    "finally выполняется в любом случае вне зависимости от того че произошло"
   ]
  },
  {
   "cell_type": "code",
   "execution_count": 26,
   "metadata": {},
   "outputs": [
    {
     "name": "stdout",
     "output_type": "stream",
     "text": [
      "finally выполняется до return\n",
      "1 1\n"
     ]
    }
   ],
   "source": [
    "def get_values():\n",
    "    try: \n",
    "        x, y = map(int, input().split())\n",
    "        return x, y\n",
    "    except ValueError as z: \n",
    "        print(z)\n",
    "        return 0, 0\n",
    "    finally:\n",
    "        print(\"finally выполняется до return\")\n",
    "\n",
    "x, y = get_values()\n",
    "print(x, y)"
   ]
  },
  {
   "cell_type": "markdown",
   "metadata": {},
   "source": [
    "__#30. Распространение исключений (propagation exceptions)__"
   ]
  },
  {
   "cell_type": "markdown",
   "metadata": {},
   "source": [
    "Существует стэк распространения исключений, в котором исключение определенного вида/типа может дублироваться в зависимости от количества функций и вызовов, где фигурирует строчка с ошибочным кодом.\n",
    "\n",
    "Если же на этом стэке обработать исключение в одном месте - обработаются исключения во всех местах."
   ]
  },
  {
   "cell_type": "code",
   "execution_count": 27,
   "metadata": {},
   "outputs": [
    {
     "name": "stdout",
     "output_type": "stream",
     "text": [
      "ALARM! ДЕЛЕНИЕ НА НОЛЬ !1!1!!!\n"
     ]
    }
   ],
   "source": [
    "def func2():\n",
    "    try: \n",
    "        return 1 / 0 \n",
    "    except ZeroDivisionError: \n",
    "        print(\"ALARM! ДЕЛЕНИЕ НА НОЛЬ !1!1!!!\")\n",
    "def func1():\n",
    "    return func2() \n",
    "\n",
    "func1()"
   ]
  },
  {
   "cell_type": "markdown",
   "metadata": {},
   "source": [
    "__#31. Инструкция raise и пользовательские исключения__"
   ]
  },
  {
   "cell_type": "code",
   "execution_count": 37,
   "metadata": {},
   "outputs": [
    {
     "name": "stdout",
     "output_type": "stream",
     "text": [
      "принтер не отевчает\n"
     ]
    }
   ],
   "source": [
    "class ExceptionPrint(Exception):\n",
    "    \"\"\"Общий класс исключения принтера\"\"\"\n",
    "\n",
    "class ExceptionPrintSentData(Exception):\n",
    "    \"\"\"Класс исключения при отправке данных принтеру\"\"\"\n",
    "    def __init__(self, *args): \n",
    "        self.message = args[0] if args else None\n",
    "\n",
    "    def __str__(self): \n",
    "        return f\"Ошибка {self.message}\"\n",
    "\n",
    "class PrintData:\n",
    "    def print(self, data):\n",
    "        self.send_data(data)\n",
    "        print(f\"печать: {str(data)}\")\n",
    " \n",
    "    def send_data(self, data):\n",
    "        if not self.send_to_print(data):\n",
    "            raise ExceptionPrintSentData(\"принтер не отвечает\")\n",
    " \n",
    "    def send_to_print(self, data):\n",
    "        return False\n",
    "    \n",
    "p = PrintData()\n",
    "try:\n",
    "    p.print(\"123\")\n",
    "except ExceptionPrintSentData: \n",
    "    print(\"принтер не отевчает\")\n",
    "except ExceptionPrint: \n",
    "    print(\"общая ошибка печати\")"
   ]
  },
  {
   "cell_type": "markdown",
   "metadata": {},
   "source": [
    "__#32. Менеджеры контекстов. Оператор with__"
   ]
  },
  {
   "cell_type": "markdown",
   "metadata": {},
   "source": [
    "Менеджер контекста with позволяет при завершении автоматически закрыть файловый поток вне зависимости от того произошло исключение или нет.\n",
    "\n",
    "Менедже контекста это класс, который состоит из двух методов:\n",
    "\n",
    "enter() - срабатывает в момент создания объекта менеджера контекста \n",
    "\n",
    "exit() - срабатывает в момент завершения работы менджера контекста или возникновения исключения \n",
    "\n",
    "with \"менеджер контекста\" as \"переменная\":\n",
    "\n",
    "Также его можно использовать для защиты данных, например для того, чтобы в случае какой-либо ошибки значения списка/вектора не изменились, а остались прежнними."
   ]
  },
  {
   "cell_type": "code",
   "execution_count": null,
   "metadata": {},
   "outputs": [],
   "source": [
    "fp = None\n",
    "try:\n",
    "    with open(\"myfile.txt\") as f:\n",
    "        for t in fp:\n",
    "            print(t)\n",
    "except Exception as e:\n",
    "    print(e)"
   ]
  },
  {
   "cell_type": "code",
   "execution_count": 41,
   "metadata": {},
   "outputs": [
    {
     "name": "stdout",
     "output_type": "stream",
     "text": [
      "Произошла ошибка\n",
      "[1, 2, 3]\n"
     ]
    }
   ],
   "source": [
    "class DefenerVector:\n",
    "    def __init__(self, v):\n",
    "        self.__v = v\n",
    " \n",
    "    def __enter__(self):\n",
    "        self.__temp = self.__v[:]  # делаем копию вектора v\n",
    "        return self.__temp\n",
    " \n",
    "    def __exit__(self, exc_type, exc_val, exc_tb):\n",
    "        if exc_type is None:\n",
    "            self.__v[:] = self.__temp\n",
    "        return False\n",
    "    \n",
    "v1 = [1, 2, 3]\n",
    "v2 = [1, 2]\n",
    "try: \n",
    "    with DefenerVector(v1) as dv:\n",
    "        for i, a in enumerate(dv):\n",
    "            dv[i] += v2[i]\n",
    "except Exception: \n",
    "    print(\"Произошла ошибка\")\n",
    "print(v1)"
   ]
  }
 ],
 "metadata": {
  "kernelspec": {
   "display_name": "Python 3",
   "language": "python",
   "name": "python3"
  },
  "language_info": {
   "codemirror_mode": {
    "name": "ipython",
    "version": 3
   },
   "file_extension": ".py",
   "mimetype": "text/x-python",
   "name": "python",
   "nbconvert_exporter": "python",
   "pygments_lexer": "ipython3",
   "version": "3.13.2"
  }
 },
 "nbformat": 4,
 "nbformat_minor": 2
}
