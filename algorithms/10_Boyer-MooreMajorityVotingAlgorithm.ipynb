{
 "cells": [
  {
   "cell_type": "markdown",
   "id": "54d6d167",
   "metadata": {},
   "source": [
    "__Boyer-Moore Majority Voting Algorithm__"
   ]
  },
  {
   "cell_type": "markdown",
   "id": "d98e4dce",
   "metadata": {},
   "source": [
    "Алгоритм голосования Бойера-Мура - это один из популярных оптимальных алгоритмов, который используется для поиска мажоритарного элемента среди заданных элементов, имеющих более N / 2 вхождений. Это прекрасно работает для поиска основного элемента, который выполняет 2 обхода по заданным элементам, что работает при O (N) временной сложности и O (1) пространственной сложности."
   ]
  },
  {
   "cell_type": "code",
   "execution_count": 1,
   "id": "35894799",
   "metadata": {},
   "outputs": [
    {
     "name": "stdout",
     "output_type": "stream",
     "text": [
      " The majority element is : 1\n"
     ]
    }
   ],
   "source": [
    "# Python implementation for the above approach\n",
    "\n",
    "# Function to find majority element\n",
    "def findMajority(arr, n):\n",
    "    candidate = -1\n",
    "    votes = 0\n",
    "    \n",
    "    # Finding majority candidate\n",
    "    for i in range (n):\n",
    "        if (votes == 0):\n",
    "            candidate = arr[i]\n",
    "            votes = 1\n",
    "        else:\n",
    "            if (arr[i] == candidate):\n",
    "                votes += 1\n",
    "            else:\n",
    "                votes -= 1\n",
    "    count = 0\n",
    "    \n",
    "    # Checking if majority candidate occurs more than n/2\n",
    "    # times\n",
    "    for i in range (n):\n",
    "        if (arr[i] == candidate):\n",
    "            count += 1\n",
    "            \n",
    "    if (count > n // 2):\n",
    "        return candidate\n",
    "    else:\n",
    "        return -1\n",
    "\n",
    "# Driver Code \n",
    "\n",
    "arr = [ 1, 1, 1, 1, 2, 3, 4 ]\n",
    "n = len(arr)\n",
    "majority = findMajority(arr, n)\n",
    "print(\" The majority element is :\" ,majority)\n",
    "    \n",
    "# This code is contributed by shivanisinghss2110  \n",
    "    \n"
   ]
  }
 ],
 "metadata": {
  "kernelspec": {
   "display_name": "Python 3",
   "language": "python",
   "name": "python3"
  },
  "language_info": {
   "codemirror_mode": {
    "name": "ipython",
    "version": 3
   },
   "file_extension": ".py",
   "mimetype": "text/x-python",
   "name": "python",
   "nbconvert_exporter": "python",
   "pygments_lexer": "ipython3",
   "version": "3.13.2"
  }
 },
 "nbformat": 4,
 "nbformat_minor": 5
}
